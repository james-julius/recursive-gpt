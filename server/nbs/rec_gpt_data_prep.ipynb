{
 "cells": [
  {
   "cell_type": "code",
   "execution_count": null,
   "id": "90e7e7b7-975e-4c0c-a39d-b1592f2029a3",
   "metadata": {
    "execution": {
     "iopub.execute_input": "2024-01-21T03:54:03.831013Z",
     "iopub.status.busy": "2024-01-21T03:54:03.830683Z",
     "iopub.status.idle": "2024-01-21T03:54:16.648457Z",
     "shell.execute_reply": "2024-01-21T03:54:16.647284Z",
     "shell.execute_reply.started": "2024-01-21T03:54:03.830985Z"
    }
   },
   "outputs": [],
   "source": [
    "!pip install -r requirements.txt"
   ]
  },
  {
   "cell_type": "code",
   "execution_count": null,
   "id": "0c1e721c-70fe-4347-a941-79589b151a02",
   "metadata": {
    "execution": {
     "iopub.execute_input": "2024-01-21T04:03:24.558348Z",
     "iopub.status.busy": "2024-01-21T04:03:24.557913Z",
     "iopub.status.idle": "2024-01-21T04:03:24.572620Z",
     "shell.execute_reply": "2024-01-21T04:03:24.571468Z",
     "shell.execute_reply.started": "2024-01-21T04:03:24.558319Z"
    }
   },
   "outputs": [],
   "source": [
    "from pathlib import Path\n",
    "\n",
    "# Clone: https://huggingface.co/datasets/lmsys/lmsys-chat-1m\n",
    "\n",
    "data = Path(\"lmsys-chat-1m/data\")\n",
    "data_files = list(data.glob(\"*\"))\n",
    "data_files"
   ]
  },
  {
   "cell_type": "code",
   "execution_count": null,
   "id": "8bca5b07-7c18-49e3-9061-5a7ba4d5bcf9",
   "metadata": {
    "execution": {
     "iopub.execute_input": "2024-01-21T04:03:26.760381Z",
     "iopub.status.busy": "2024-01-21T04:03:26.759907Z",
     "iopub.status.idle": "2024-01-21T04:03:38.905991Z",
     "shell.execute_reply": "2024-01-21T04:03:38.904667Z",
     "shell.execute_reply.started": "2024-01-21T04:03:26.760340Z"
    }
   },
   "outputs": [],
   "source": [
    "import polars as pl\n",
    "\n",
    "df = pl.read_parquet(data_files).filter(\n",
    "    # Initial filters\n",
    "    (pl.col.language == \"English\") & ~pl.col.redacted\n",
    ")\n",
    "display(df.shape)\n",
    "df.head(3)"
   ]
  },
  {
   "cell_type": "code",
   "execution_count": null,
   "id": "73878531-559f-400a-9922-917e04e8fa57",
   "metadata": {
    "execution": {
     "iopub.execute_input": "2024-01-21T04:03:43.413667Z",
     "iopub.status.busy": "2024-01-21T04:03:43.412890Z",
     "iopub.status.idle": "2024-01-21T04:03:45.644751Z",
     "shell.execute_reply": "2024-01-21T04:03:45.643608Z",
     "shell.execute_reply.started": "2024-01-21T04:03:43.413638Z"
    }
   },
   "outputs": [],
   "source": [
    "# Easier to work with in-memory\n",
    "df_sampled = df.sample(100_000, seed=42)\n",
    "df_sampled.shape"
   ]
  },
  {
   "cell_type": "code",
   "execution_count": null,
   "id": "016b9107-ba56-430d-ad71-80c8d0c5fbc4",
   "metadata": {
    "execution": {
     "iopub.execute_input": "2024-01-21T04:03:48.664519Z",
     "iopub.status.busy": "2024-01-21T04:03:48.664010Z",
     "iopub.status.idle": "2024-01-21T04:03:55.811456Z",
     "shell.execute_reply": "2024-01-21T04:03:55.810273Z",
     "shell.execute_reply.started": "2024-01-21T04:03:48.664478Z"
    }
   },
   "outputs": [],
   "source": [
    "# Conversation IDs that contain wanted content.\n",
    "df_exp_ml = (\n",
    "    df_sampled.explode(\"conversation\")\n",
    "    .unnest(\"conversation\")\n",
    "    .filter(\n",
    "        # Convos about ML\n",
    "        pl.col.content.str.contains(\"(outer space|ocean|machine learning)\")\n",
    "    )\n",
    ")\n",
    "print(df_exp_ml.shape)\n",
    "df_sampled_ml = df_sampled.filter(\n",
    "    pl.col.conversation_id.is_in(df_exp_ml[\"conversation_id\"])\n",
    ")\n",
    "df_sampled_ml.head(3)"
   ]
  },
  {
   "cell_type": "code",
   "execution_count": null,
   "id": "34f15252-c442-4796-8e1f-db60f8abf9a4",
   "metadata": {
    "execution": {
     "iopub.execute_input": "2024-01-21T04:04:01.252836Z",
     "iopub.status.busy": "2024-01-21T04:04:01.252467Z",
     "iopub.status.idle": "2024-01-21T04:04:01.279950Z",
     "shell.execute_reply": "2024-01-21T04:04:01.279072Z",
     "shell.execute_reply.started": "2024-01-21T04:04:01.252810Z"
    }
   },
   "outputs": [],
   "source": [
    "# Add JSON-encoded field to input to the embedding\n",
    "df_sampled_ml_embed = df_sampled_ml.with_columns(\n",
    "    conversation_json=pl.col.conversation.list.to_struct(\n",
    "        fields=[\"query\", \"response\"]\n",
    "    ).struct.json_encode()\n",
    ")\n",
    "df_sampled_ml_embed.head(3)"
   ]
  },
  {
   "cell_type": "code",
   "execution_count": null,
   "id": "bcb39443-8558-448d-86ba-bd0b7bf22c57",
   "metadata": {
    "execution": {
     "iopub.execute_input": "2024-01-21T04:04:02.594052Z",
     "iopub.status.busy": "2024-01-21T04:04:02.593711Z",
     "iopub.status.idle": "2024-01-21T04:04:02.961647Z",
     "shell.execute_reply": "2024-01-21T04:04:02.960629Z",
     "shell.execute_reply.started": "2024-01-21T04:04:02.594026Z"
    }
   },
   "outputs": [],
   "source": [
    "# Embed the JSONs\n",
    "\n",
    "from dotenv import load_dotenv\n",
    "from openai import OpenAI\n",
    "\n",
    "load_dotenv()\n",
    "\n",
    "client = OpenAI()"
   ]
  },
  {
   "cell_type": "code",
   "execution_count": null,
   "id": "46764d09-253b-414c-b611-e229e2fe9aa9",
   "metadata": {
    "execution": {
     "iopub.execute_input": "2024-01-21T04:04:02.963726Z",
     "iopub.status.busy": "2024-01-21T04:04:02.963304Z",
     "iopub.status.idle": "2024-01-21T04:04:28.533921Z",
     "shell.execute_reply": "2024-01-21T04:04:28.532673Z",
     "shell.execute_reply.started": "2024-01-21T04:04:02.963688Z"
    }
   },
   "outputs": [],
   "source": [
    "from joblib import Parallel, delayed\n",
    "from tqdm import tqdm\n",
    "\n",
    "\n",
    "def get_embedding(text):\n",
    "    # client not pickle-able\n",
    "    response = OpenAI().embeddings.create(input=text, model=\"text-embedding-ada-002\")\n",
    "    return response\n",
    "\n",
    "\n",
    "conv_jsons = df_sampled_ml_embed[\"conversation_json\"].to_list()\n",
    "embedding_responses = Parallel(n_jobs=50)(\n",
    "    delayed(get_embedding)(c) for c in tqdm(conv_jsons)\n",
    ")\n",
    "embeddings = [e.data[0].embedding for e in embedding_responses]"
   ]
  },
  {
   "cell_type": "code",
   "execution_count": null,
   "id": "4c5c444c-026e-4188-ae50-c62dcdb2b1dd",
   "metadata": {
    "execution": {
     "iopub.execute_input": "2024-01-21T04:04:28.540413Z",
     "iopub.status.busy": "2024-01-21T04:04:28.539594Z",
     "iopub.status.idle": "2024-01-21T04:04:28.937611Z",
     "shell.execute_reply": "2024-01-21T04:04:28.936665Z",
     "shell.execute_reply.started": "2024-01-21T04:04:28.540382Z"
    }
   },
   "outputs": [],
   "source": [
    "df_sampled_ml_embedded = df_sampled_ml_embed.with_columns(\n",
    "    conv_embedding=pl.Series(embeddings)\n",
    ")\n",
    "df_sampled_ml_embedded.head(1)"
   ]
  },
  {
   "cell_type": "code",
   "execution_count": null,
   "id": "0b8803c0-92f8-48b0-b503-f8353578c889",
   "metadata": {
    "execution": {
     "iopub.execute_input": "2024-01-21T04:04:28.940138Z",
     "iopub.status.busy": "2024-01-21T04:04:28.939772Z",
     "iopub.status.idle": "2024-01-21T04:04:28.946649Z",
     "shell.execute_reply": "2024-01-21T04:04:28.945713Z",
     "shell.execute_reply.started": "2024-01-21T04:04:28.940104Z"
    }
   },
   "outputs": [],
   "source": [
    "df_sampled_ml_embedded[\"conv_embedding\"][0].shape"
   ]
  },
  {
   "cell_type": "code",
   "execution_count": null,
   "id": "13e10c38-a54a-47e8-a22b-957cea5f113e",
   "metadata": {
    "execution": {
     "iopub.execute_input": "2024-01-21T04:04:28.949534Z",
     "iopub.status.busy": "2024-01-21T04:04:28.949287Z",
     "iopub.status.idle": "2024-01-21T04:04:28.962654Z",
     "shell.execute_reply": "2024-01-21T04:04:28.961777Z",
     "shell.execute_reply.started": "2024-01-21T04:04:28.949511Z"
    }
   },
   "outputs": [],
   "source": [
    "import numpy as np\n",
    "\n",
    "# Prevent confusing integer overflow errors in polars/usearch downstream\n",
    "i64_safe_max = np.iinfo(np.int64).max // 10\n",
    "\n",
    "\n",
    "# Define a hashing function\n",
    "def hash_string(s):\n",
    "    return hash(s) % i64_safe_max\n",
    "\n",
    "\n",
    "df_app = df_sampled_ml_embedded.with_columns(\n",
    "    conv_id_hash=pl.col.conversation_id.map_elements(hash_string)\n",
    ")\n",
    "df_app.head(1)"
   ]
  },
  {
   "cell_type": "code",
   "execution_count": null,
   "id": "76fdfe44-febd-45e6-8b82-5b00e197c606",
   "metadata": {
    "execution": {
     "iopub.execute_input": "2024-01-21T04:04:28.964728Z",
     "iopub.status.busy": "2024-01-21T04:04:28.963935Z",
     "iopub.status.idle": "2024-01-21T04:04:29.265739Z",
     "shell.execute_reply": "2024-01-21T04:04:29.264811Z",
     "shell.execute_reply.started": "2024-01-21T04:04:28.964700Z"
    }
   },
   "outputs": [],
   "source": [
    "# Create a search index\n",
    "import numpy as np\n",
    "from usearch.index import Index\n",
    "\n",
    "index = Index(ndim=len(df_app[\"conv_embedding\"][0]))\n",
    "\n",
    "for conv_id_hash, conv_embedding in df_app.select(\"conv_id_hash\", \"conv_embedding\")[\n",
    "    :20\n",
    "].iter_rows():\n",
    "    index.add(conv_id_hash, np.array(conv_embedding))\n",
    "\n",
    "# print(df_app[0][\"conv_embedding\"][0])\n",
    "example_query_row = df_app[0]\n",
    "matches = index.search(example_query_row[\"conv_embedding\"][0].to_numpy(), 10)\n",
    "\n",
    "assert matches[0].key == example_query_row[\"conv_id_hash\"][0]\n",
    "assert matches[0].distance <= 0.001\n",
    "matches[0]"
   ]
  },
  {
   "cell_type": "code",
   "execution_count": null,
   "id": "eb13d9e8-5cf9-4a6f-b950-e8fb78dc648e",
   "metadata": {},
   "outputs": [],
   "source": []
  },
  {
   "cell_type": "code",
   "execution_count": null,
   "id": "7082de97-2b83-44a3-968e-94de05a56c3f",
   "metadata": {
    "execution": {
     "iopub.execute_input": "2024-01-21T04:04:29.267537Z",
     "iopub.status.busy": "2024-01-21T04:04:29.267171Z",
     "iopub.status.idle": "2024-01-21T04:04:29.273427Z",
     "shell.execute_reply": "2024-01-21T04:04:29.272405Z",
     "shell.execute_reply.started": "2024-01-21T04:04:29.267512Z"
    }
   },
   "outputs": [],
   "source": [
    "df_app.columns"
   ]
  },
  {
   "cell_type": "code",
   "execution_count": null,
   "id": "cd1bf862-b109-4e2d-b710-5cb3ad9dff52",
   "metadata": {
    "execution": {
     "iopub.execute_input": "2024-01-21T04:04:29.275231Z",
     "iopub.status.busy": "2024-01-21T04:04:29.274498Z",
     "iopub.status.idle": "2024-01-21T04:04:30.566812Z",
     "shell.execute_reply": "2024-01-21T04:04:30.565576Z",
     "shell.execute_reply.started": "2024-01-21T04:04:29.275190Z"
    }
   },
   "outputs": [],
   "source": [
    "# Write out file for use by the app.\n",
    "df_app.select(\n",
    "    \"conv_id_hash\", \"conversation_id\", \"conversation\", \"model\", \"conv_embedding\"\n",
    ").write_parquet(\"data/app_embeds.parquet\")\n",
    "!du -sh data/*.parquet"
   ]
  },
  {
   "cell_type": "code",
   "execution_count": null,
   "id": "726bdc75-5c32-4020-a591-c57c57efffe9",
   "metadata": {},
   "outputs": [],
   "source": []
  },
  {
   "cell_type": "code",
   "execution_count": null,
   "id": "5d68e2e6-8f71-4401-8d5d-41aaf6da3b3a",
   "metadata": {},
   "outputs": [],
   "source": []
  }
 ],
 "metadata": {
  "kernelspec": {
   "display_name": "Python 3 (ipykernel)",
   "language": "python",
   "name": "python3"
  },
  "language_info": {
   "codemirror_mode": {
    "name": "ipython",
    "version": 3
   },
   "file_extension": ".py",
   "mimetype": "text/x-python",
   "name": "python",
   "nbconvert_exporter": "python",
   "pygments_lexer": "ipython3",
   "version": "3.11.7"
  }
 },
 "nbformat": 4,
 "nbformat_minor": 5
}
