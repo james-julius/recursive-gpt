{
 "cells": [
  {
   "cell_type": "code",
   "execution_count": null,
   "id": "90e7e7b7-975e-4c0c-a39d-b1592f2029a3",
   "metadata": {
    "execution": {
     "iopub.execute_input": "2024-01-21T01:28:58.598149Z",
     "iopub.status.busy": "2024-01-21T01:28:58.597514Z",
     "iopub.status.idle": "2024-01-21T01:29:02.571544Z",
     "shell.execute_reply": "2024-01-21T01:29:02.570028Z",
     "shell.execute_reply.started": "2024-01-21T01:28:58.598119Z"
    }
   },
   "outputs": [],
   "source": [
    "%pip install -r requirements.txt"
   ]
  },
  {
   "cell_type": "code",
   "execution_count": null,
   "id": "0c1e721c-70fe-4347-a941-79589b151a02",
   "metadata": {
    "execution": {
     "iopub.execute_input": "2024-01-21T01:29:02.575581Z",
     "iopub.status.busy": "2024-01-21T01:29:02.575024Z",
     "iopub.status.idle": "2024-01-21T01:29:02.591721Z",
     "shell.execute_reply": "2024-01-21T01:29:02.589827Z",
     "shell.execute_reply.started": "2024-01-21T01:29:02.575538Z"
    }
   },
   "outputs": [],
   "source": [
    "from pathlib import Path\n",
    "\n",
    "# Clone: https://huggingface.co/datasets/lmsys/lmsys-chat-1m\n",
    "\n",
    "data = Path(\"lmsys-chat-1m/data\")\n",
    "data_files = list(data.glob(\"*\"))\n",
    "data_files"
   ]
  },
  {
   "cell_type": "code",
   "execution_count": null,
   "id": "8bca5b07-7c18-49e3-9061-5a7ba4d5bcf9",
   "metadata": {
    "execution": {
     "iopub.execute_input": "2024-01-21T01:29:02.594447Z",
     "iopub.status.busy": "2024-01-21T01:29:02.593869Z",
     "iopub.status.idle": "2024-01-21T01:29:15.815486Z",
     "shell.execute_reply": "2024-01-21T01:29:15.814333Z",
     "shell.execute_reply.started": "2024-01-21T01:29:02.594407Z"
    }
   },
   "outputs": [],
   "source": [
    "import polars as pl\n",
    "\n",
    "df = pl.read_parquet(data_files).filter(\n",
    "    (\n",
    "        # Initial filters\n",
    "        pl.col.language == \"English\"\n",
    "    )\n",
    ")\n",
    "display(df.shape)\n",
    "df.head(3)"
   ]
  },
  {
   "cell_type": "code",
   "execution_count": null,
   "id": "73878531-559f-400a-9922-917e04e8fa57",
   "metadata": {
    "execution": {
     "iopub.execute_input": "2024-01-21T01:29:15.817420Z",
     "iopub.status.busy": "2024-01-21T01:29:15.817149Z",
     "iopub.status.idle": "2024-01-21T01:29:18.811104Z",
     "shell.execute_reply": "2024-01-21T01:29:18.810043Z",
     "shell.execute_reply.started": "2024-01-21T01:29:15.817392Z"
    }
   },
   "outputs": [],
   "source": [
    "# Easier to work with in-memory\n",
    "df_sampled = df.sample(100_000, seed=42)\n",
    "df_sampled.shape"
   ]
  },
  {
   "cell_type": "code",
   "execution_count": null,
   "id": "016b9107-ba56-430d-ad71-80c8d0c5fbc4",
   "metadata": {
    "execution": {
     "iopub.execute_input": "2024-01-21T01:29:18.815749Z",
     "iopub.status.busy": "2024-01-21T01:29:18.815475Z",
     "iopub.status.idle": "2024-01-21T01:29:27.386685Z",
     "shell.execute_reply": "2024-01-21T01:29:27.385263Z",
     "shell.execute_reply.started": "2024-01-21T01:29:18.815722Z"
    }
   },
   "outputs": [],
   "source": [
    "# Conversation IDs that contain wanted content.\n",
    "df_exp_ml = (\n",
    "    df_sampled.explode(\"conversation\")\n",
    "    .unnest(\"conversation\")\n",
    "    .filter(\n",
    "        # Convos about ML\n",
    "        pl.col.content.str.contains(\"machine learning\")\n",
    "    )\n",
    ")\n",
    "print(df_exp_ml.shape)\n",
    "df_sampled_ml = df_sampled.filter(\n",
    "    pl.col.conversation_id.is_in(df_exp_ml[\"conversation_id\"])\n",
    ")\n",
    "df_sampled_ml.head(3)"
   ]
  },
  {
   "cell_type": "code",
   "execution_count": null,
   "id": "34f15252-c442-4796-8e1f-db60f8abf9a4",
   "metadata": {
    "execution": {
     "iopub.execute_input": "2024-01-21T01:29:27.388634Z",
     "iopub.status.busy": "2024-01-21T01:29:27.388280Z",
     "iopub.status.idle": "2024-01-21T01:29:27.419878Z",
     "shell.execute_reply": "2024-01-21T01:29:27.419018Z",
     "shell.execute_reply.started": "2024-01-21T01:29:27.388605Z"
    }
   },
   "outputs": [],
   "source": [
    "# Add JSON-encoded field to input to the embedding\n",
    "df_sampled_ml_embed = df_sampled_ml.with_columns(\n",
    "    conversation_json=pl.col.conversation.list.to_struct(\n",
    "        fields=[\"query\", \"response\"]\n",
    "    ).struct.json_encode()\n",
    ")\n",
    "df_sampled_ml_embed.head(3)"
   ]
  },
  {
   "cell_type": "code",
   "execution_count": null,
   "id": "bcb39443-8558-448d-86ba-bd0b7bf22c57",
   "metadata": {
    "execution": {
     "iopub.execute_input": "2024-01-21T01:29:27.421690Z",
     "iopub.status.busy": "2024-01-21T01:29:27.421431Z",
     "iopub.status.idle": "2024-01-21T01:29:27.814517Z",
     "shell.execute_reply": "2024-01-21T01:29:27.813619Z",
     "shell.execute_reply.started": "2024-01-21T01:29:27.421665Z"
    }
   },
   "outputs": [],
   "source": [
    "# Embed the JSONs\n",
    "\n",
    "from dotenv import load_dotenv\n",
    "from openai import OpenAI\n",
    "\n",
    "load_dotenv()\n",
    "\n",
    "client = OpenAI()"
   ]
  },
  {
   "cell_type": "code",
   "execution_count": null,
   "id": "46764d09-253b-414c-b611-e229e2fe9aa9",
   "metadata": {
    "execution": {
     "iopub.execute_input": "2024-01-21T01:29:27.816462Z",
     "iopub.status.busy": "2024-01-21T01:29:27.816113Z",
     "iopub.status.idle": "2024-01-21T01:29:50.996254Z",
     "shell.execute_reply": "2024-01-21T01:29:50.995011Z",
     "shell.execute_reply.started": "2024-01-21T01:29:27.816436Z"
    }
   },
   "outputs": [],
   "source": [
    "from joblib import Parallel, delayed\n",
    "from tqdm import tqdm\n",
    "\n",
    "\n",
    "def get_embedding(text):\n",
    "    # client not pickle-able\n",
    "    response = OpenAI().embeddings.create(input=text, model=\"text-embedding-ada-002\")\n",
    "    return response\n",
    "\n",
    "\n",
    "conv_jsons = df_sampled_ml_embed[\"conversation_json\"].to_list()\n",
    "embedding_responses = Parallel(n_jobs=50)(\n",
    "    delayed(get_embedding)(c) for c in tqdm(conv_jsons)\n",
    ")\n",
    "embeddings = [e.data[0].embedding for e in embedding_responses]"
   ]
  },
  {
   "cell_type": "code",
   "execution_count": null,
   "id": "4c5c444c-026e-4188-ae50-c62dcdb2b1dd",
   "metadata": {
    "execution": {
     "iopub.execute_input": "2024-01-21T01:29:50.998956Z",
     "iopub.status.busy": "2024-01-21T01:29:50.998473Z",
     "iopub.status.idle": "2024-01-21T01:29:51.225700Z",
     "shell.execute_reply": "2024-01-21T01:29:51.224579Z",
     "shell.execute_reply.started": "2024-01-21T01:29:50.998925Z"
    }
   },
   "outputs": [],
   "source": [
    "df_sampled_ml_embedded = df_sampled_ml_embed.with_columns(\n",
    "    conv_embedding=pl.Series(embeddings)\n",
    ")\n",
    "df_sampled_ml_embedded.head(1)"
   ]
  },
  {
   "cell_type": "code",
   "execution_count": null,
   "id": "0b8803c0-92f8-48b0-b503-f8353578c889",
   "metadata": {
    "execution": {
     "iopub.execute_input": "2024-01-21T01:29:51.227233Z",
     "iopub.status.busy": "2024-01-21T01:29:51.226963Z",
     "iopub.status.idle": "2024-01-21T01:29:51.235246Z",
     "shell.execute_reply": "2024-01-21T01:29:51.234147Z",
     "shell.execute_reply.started": "2024-01-21T01:29:51.227206Z"
    }
   },
   "outputs": [],
   "source": [
    "df_sampled_ml_embedded[\"conv_embedding\"][0].shape"
   ]
  },
  {
   "cell_type": "code",
   "execution_count": null,
   "id": "13e10c38-a54a-47e8-a22b-957cea5f113e",
   "metadata": {
    "execution": {
     "iopub.execute_input": "2024-01-21T01:35:46.060420Z",
     "iopub.status.busy": "2024-01-21T01:35:46.059475Z",
     "iopub.status.idle": "2024-01-21T01:35:46.078991Z",
     "shell.execute_reply": "2024-01-21T01:35:46.077606Z",
     "shell.execute_reply.started": "2024-01-21T01:35:46.060389Z"
    }
   },
   "outputs": [],
   "source": [
    "import numpy as np\n",
    "\n",
    "# Prevent confusing integer overflow errors in polars/usearch downstream\n",
    "i64_safe_max = np.iinfo(np.int64).max // 10\n",
    "\n",
    "\n",
    "# Define a hashing function\n",
    "def hash_string(s):\n",
    "    return hash(s) % i64_safe_max\n",
    "\n",
    "\n",
    "df_app = df_sampled_ml_embedded.with_columns(\n",
    "    conv_id_hash=pl.col.conversation_id.map_elements(hash_string)\n",
    ")\n",
    "df_app.head(1)"
   ]
  },
  {
   "cell_type": "code",
   "execution_count": null,
   "id": "76fdfe44-febd-45e6-8b82-5b00e197c606",
   "metadata": {
    "execution": {
     "iopub.execute_input": "2024-01-21T01:35:47.105411Z",
     "iopub.status.busy": "2024-01-21T01:35:47.104902Z",
     "iopub.status.idle": "2024-01-21T01:35:47.416078Z",
     "shell.execute_reply": "2024-01-21T01:35:47.415073Z",
     "shell.execute_reply.started": "2024-01-21T01:35:47.105373Z"
    }
   },
   "outputs": [],
   "source": [
    "# Create a search index\n",
    "import numpy as np\n",
    "from usearch.index import Index\n",
    "\n",
    "index = Index(ndim=len(df_app[\"conv_embedding\"][0]))\n",
    "\n",
    "for conv_id_hash, conv_embedding in df_app.select(\"conv_id_hash\", \"conv_embedding\")[\n",
    "    :20\n",
    "].iter_rows():\n",
    "    index.add(conv_id_hash, np.array(conv_embedding))\n",
    "\n",
    "# print(df_app[0][\"conv_embedding\"][0])\n",
    "example_query_row = df_app[0]\n",
    "matches = index.search(example_query_row[\"conv_embedding\"][0].to_numpy(), 10)\n",
    "\n",
    "assert matches[0].key == example_query_row[\"conv_id_hash\"][0]\n",
    "assert matches[0].distance <= 0.001\n",
    "matches[0]"
   ]
  },
  {
   "cell_type": "code",
   "execution_count": null,
   "id": "eb13d9e8-5cf9-4a6f-b950-e8fb78dc648e",
   "metadata": {},
   "outputs": [],
   "source": []
  },
  {
   "cell_type": "code",
   "execution_count": null,
   "id": "7082de97-2b83-44a3-968e-94de05a56c3f",
   "metadata": {
    "execution": {
     "iopub.execute_input": "2024-01-21T01:35:51.481731Z",
     "iopub.status.busy": "2024-01-21T01:35:51.481177Z",
     "iopub.status.idle": "2024-01-21T01:35:51.488365Z",
     "shell.execute_reply": "2024-01-21T01:35:51.487463Z",
     "shell.execute_reply.started": "2024-01-21T01:35:51.481702Z"
    }
   },
   "outputs": [],
   "source": [
    "df_app.columns"
   ]
  },
  {
   "cell_type": "code",
   "execution_count": null,
   "id": "cd1bf862-b109-4e2d-b710-5cb3ad9dff52",
   "metadata": {
    "execution": {
     "iopub.execute_input": "2024-01-21T01:35:58.042078Z",
     "iopub.status.busy": "2024-01-21T01:35:58.041229Z",
     "iopub.status.idle": "2024-01-21T01:35:59.214320Z",
     "shell.execute_reply": "2024-01-21T01:35:59.213325Z",
     "shell.execute_reply.started": "2024-01-21T01:35:58.042046Z"
    }
   },
   "outputs": [],
   "source": [
    "# Write out file for use by the app.\n",
    "df_app.select(\n",
    "    \"conv_id_hash\", \"conversation_id\", \"conversation\", \"model\", \"conv_embedding\"\n",
    ").write_parquet(\"data/app_embeds.parquet\")\n",
    "!du -sh data/*.parquet"
   ]
  },
  {
   "cell_type": "code",
   "execution_count": null,
   "id": "726bdc75-5c32-4020-a591-c57c57efffe9",
   "metadata": {},
   "outputs": [],
   "source": []
  },
  {
   "cell_type": "code",
   "execution_count": null,
   "id": "5d68e2e6-8f71-4401-8d5d-41aaf6da3b3a",
   "metadata": {},
   "outputs": [],
   "source": []
  }
 ],
 "metadata": {
  "kernelspec": {
   "display_name": "Python 3 (ipykernel)",
   "language": "python",
   "name": "python3"
  },
  "language_info": {
   "codemirror_mode": {
    "name": "ipython",
    "version": 3
   },
   "file_extension": ".py",
   "mimetype": "text/x-python",
   "name": "python",
   "nbconvert_exporter": "python",
   "pygments_lexer": "ipython3",
   "version": "3.11.7"
  }
 },
 "nbformat": 4,
 "nbformat_minor": 5
}
